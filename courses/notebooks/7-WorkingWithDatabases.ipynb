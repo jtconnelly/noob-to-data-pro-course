{
 "cells": [
  {
   "cell_type": "markdown",
   "id": "f853bd5c",
   "metadata": {},
   "source": [
    "# Python Basics\n",
    "\n",
    "James Connelly\n",
    "\n",
    "[Return to Table of Contents](../html/TableOfContents.html)\n",
    "\n",
    "Previous Section: [6-Intro To Web Scraping](../html/6-IntroToWebScraping.html)"
   ]
  },
  {
   "cell_type": "markdown",
   "id": "00815eb2",
   "metadata": {},
   "source": [
    "-- Next: [2-Python Basics](../html/2-PythonBasics.html)\n"
   ]
  }
 ],
 "metadata": {
  "language_info": {
   "name": "python"
  }
 },
 "nbformat": 4,
 "nbformat_minor": 5
}
