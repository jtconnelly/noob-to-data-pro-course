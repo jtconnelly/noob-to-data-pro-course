{
 "cells": [
  {
   "cell_type": "markdown",
   "id": "36635d00",
   "metadata": {},
   "source": [
    "# Python Basics\n",
    "\n",
    "James Connelly\n",
    "\n",
    "[Return to Table of Contents](../html/TableOfContents.html)\n",
    "\n",
    "Previous Section: [5-Intro To Pandas](../html/5-IntroToPandas.html)"
   ]
  },
  {
   "cell_type": "markdown",
   "id": "a80ad274",
   "metadata": {},
   "source": [
    "Next: [7-Working With Databases](../html/7-WorkingWithDatabases.html)\n"
   ]
  }
 ],
 "metadata": {
  "language_info": {
   "name": "python"
  }
 },
 "nbformat": 4,
 "nbformat_minor": 5
}
