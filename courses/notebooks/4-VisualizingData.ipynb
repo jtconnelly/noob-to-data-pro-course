{
 "cells": [
  {
   "cell_type": "markdown",
   "id": "78395299",
   "metadata": {},
   "source": [
    "# Python Basics\n",
    "\n",
    "James Connelly\n",
    "\n",
    "[Return to Table of Contents](../html/TableOfContents.html)\n",
    "\n",
    "Previous Section: [3-Getting and ReadingData](../html/3-GettingAndReadingData.html)"
   ]
  },
  {
   "cell_type": "markdown",
   "id": "196b7f13",
   "metadata": {},
   "source": [
    "Next: [5-Intro To Pandas](../html/5-IntroToPandas.html)\n"
   ]
  }
 ],
 "metadata": {
  "language_info": {
   "name": "python"
  }
 },
 "nbformat": 4,
 "nbformat_minor": 5
}
