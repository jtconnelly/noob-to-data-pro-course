{
 "cells": [
  {
   "cell_type": "markdown",
   "id": "10e14519",
   "metadata": {},
   "source": [
    "# Python Basics\n",
    "\n",
    "James Connelly\n",
    "\n",
    "[Return to Table of Contents](../html/TableOfContents.html)\n",
    "\n",
    "Previous Section: [2-Python Basics](../html/2-PythonBasics.html)"
   ]
  },
  {
   "cell_type": "markdown",
   "id": "202b6f84",
   "metadata": {},
   "source": [
    "https://www.kaggle.com/datasets/ahmeduzaki/global-earthquake-tsunami-risk-assessment-dataset/data"
   ]
  },
  {
   "cell_type": "markdown",
   "id": "8928072d",
   "metadata": {},
   "source": [
    "Next: [4-Visualizing Data](../html/4-VisualizingData.html)"
   ]
  }
 ],
 "metadata": {
  "language_info": {
   "name": "python"
  }
 },
 "nbformat": 4,
 "nbformat_minor": 5
}
