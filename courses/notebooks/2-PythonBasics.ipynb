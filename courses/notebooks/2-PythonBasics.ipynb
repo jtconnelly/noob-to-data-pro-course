{
 "cells": [
  {
   "cell_type": "markdown",
   "id": "d770b38f",
   "metadata": {},
   "source": [
    "# Python Basics\n",
    "\n",
    "James Connelly\n",
    "\n",
    "[Return to Table of Contents](../html/TableOfContents.html)\n",
    "\n",
    "Previous Section: [1-Getting Started](../html/1-GettingStarted.html)"
   ]
  },
  {
   "cell_type": "markdown",
   "id": "7a478bf4",
   "metadata": {},
   "source": [
    "\n",
    "In order to use Python, we should have to know Python, and the basics of Programming. \n",
    "\n",
    "## Basics of Programming\n",
    "\n",
    "Underneath the hood, all that a computer is just electricity going through from one line to another, the computation in itself is following the line of electricity. \n",
    "\n",
    "These electrical signals are either on or off-1 or 0-and combine in certain paths called Gates, where 2 `output`s are combined as `input` into 1 `output`. We can set up devices that use electricity to \"save\" the result while there is power, and then have to move it somewhere later down the line. \n",
    "\n",
    "Before the real invention of the computer, this would have all been done mechanically. \n",
    "\n",
    "Once upon a time in 1943, the first computer was built to take what used to be compuations done by hand or some mechanical devices into a single machine. This machine was the ENIAC, altogether weighing 30 tons and needing an entire refridgerated room to fit everything. At the time, each machine required someone to manually move a wire from one port to another in order to manually move the electrical signal to eventually reach the desired `output`. \n",
    "\n",
    "![ENIAC](../data/Electronic-Numerical-Integrator-And-Computer.png)\n",
    "\n",
    "As time moved on, this was innovated into individual devices-removing the human factor of moving electricity-and became faster. From here, we found ways to save output onto tape drives, which would later become the hard disk and then the modern SSD. We also found a desire to store something temporarily, creating Random Access Memory (RAM), helping excel the capabilities of computers from one-off complex computations to now devices that can do everything you tell it to, let you go do something else, come back, and save it for another day. \n",
    "\n",
    "From some of the first days post-ENIAC, people desired to continue having a hand in how the data is `input`ted and `output`ted. Originally, these people would move wires, and later designed internals, and eventually started creating processor units that can be directly manipulated via a set of instructions. These instructions were manual 1s and 0s-or \"on\" and \"off\", and would take one down a path where a certain action can be taken. These instructions though became too complicated-every processor had their own instruction sets. So, they started creating a more \"readable\" language for each of these instructions. These languages became what we know as \"assembly\" today, and though were much more readable, were not friendly to anyone but the top developers that helped in their inception. So, to be more readable, programming languages started popping up everywhere, from Fortran in 1957, COBOL to 1959, to C in 1972, to the many many languages we see today. \n",
    "\n",
    "These first programming languages each had their own quirks, but all were fundamentally functional languages. This means these languages were built with the idea of functionality in mind: I have 1 task that I want to run more than once or if something else happens. \n",
    "\n",
    "Functional programming languages did not fit all of the needs of the time, especially as functions and uses for computers started to grow rapidly. Take-for example-a database. This will store multiple _objects_ in a very specific format, save them out, and then retrieve them at a later time to be used for some purpose. Functionally, this seems simple, but actually becomes very complex as these objects continue to grow or the amount saved grows. This is where Object-oriented programming comes into play. We can now make a template for these objects-called Classes-and be able to use this template to make our objects in a neat fashion that can easily be changed as we go. \n",
    "\n",
    "Python is somewhere in the middle of functional and object-oriented, since it is an interpreted (uses an interpreter to read each line as it's running rather than being _compiled_ together to be ran later) language, Python functions as a functional language, but does contain capabilities for object-oriented programming, including classes. \n",
    "\n",
    "Not to bore any further with the history of programming, but this helps build the foundation for what we are going to talk about next: \n",
    "\n",
    "---\n",
    "\n",
    "## The Building Blocks of Programming\n",
    "\n",
    "Every one teaches these differently, but the building blocks of programming boil down to: \n",
    "- `Input`\n",
    "- `Output`\n",
    "- `Reuse`\n",
    "- `Conditionals`\n",
    "- `Iteration`\n",
    "\n",
    "### Input\n",
    "\n",
    "Input is any data that goes \"into\" something, this can be input directly from a user, a parameter of a function (more on this later), data being read in from somewhere else, etc.\n",
    "\n",
    "### Output\n",
    "\n",
    "Output is any data that goes \"out of\" something. _Where_ it is outputted may vary, this can be to the screen via a console (`print` in Python), displaying to a screen, `return`ing from a function, or at the lowest level some signal being sent. \n",
    "\n",
    "### Reuse\n",
    "\n",
    "Reuse is one of the keys to functional programming. This is where you can \"save something for later\", whether that is through a class, a function, or a variable.\n",
    "\n",
    "### Conditionals\n",
    "\n",
    "Not every function should be ran every time, this is where Conditionals come in. Conditionals are choosing a path based on a certain condition being met. Most commonly, this will be an `if` call, but can also be other forms such as `switch` or function maps in lower level languages such as C++.\n",
    "\n",
    "### Iteration\n",
    "\n",
    "Sometimes we want to perform an action more than once, here is where we will `iterate` until some condition is no longer true. These will be your `for` or `while` calls. \n",
    "\n",
    "---\n",
    "\n",
    "## Understanding Python\n",
    "\n",
    "Now that we understand the foundation of what we will actually be doing, now we can learn about Python. Python has many keywords, these will be the basis of where we will build from. Here is a list of commands:"
   ]
  },
  {
   "cell_type": "code",
   "execution_count": 4,
   "id": "7c48b07c",
   "metadata": {},
   "outputs": [
    {
     "data": {
      "text/plain": [
       "['False',\n",
       " 'None',\n",
       " 'True',\n",
       " 'and',\n",
       " 'as',\n",
       " 'assert',\n",
       " 'async',\n",
       " 'await',\n",
       " 'break',\n",
       " 'class',\n",
       " 'continue',\n",
       " 'def',\n",
       " 'del',\n",
       " 'elif',\n",
       " 'else',\n",
       " 'except',\n",
       " 'finally',\n",
       " 'for',\n",
       " 'from',\n",
       " 'global',\n",
       " 'if',\n",
       " 'import',\n",
       " 'in',\n",
       " 'is',\n",
       " 'lambda',\n",
       " 'nonlocal',\n",
       " 'not',\n",
       " 'or',\n",
       " 'pass',\n",
       " 'raise',\n",
       " 'return',\n",
       " 'try',\n",
       " 'while',\n",
       " 'with',\n",
       " 'yield']"
      ]
     },
     "execution_count": 4,
     "metadata": {},
     "output_type": "execute_result"
    }
   ],
   "source": [
    "import keyword\n",
    "keyword.kwlist"
   ]
  },
  {
   "cell_type": "markdown",
   "id": "126ed345",
   "metadata": {},
   "source": [
    "Some of these keywords we will never use for what we need to do, such as `async`, `assert`, `pass`, `await`, `yield`, or `nonlocal`.\n",
    "\n",
    "However, we can categorize what we will use into the building blocks\n",
    "\n",
    "| Keyword | Building Block |\n",
    "| :---: | :---: |\n",
    "| `True` | Conditional |\n",
    "| `False` | Conditional |\n",
    "| `if` | Conditional |\n",
    "| `elif` | Conditional |\n",
    "| `else` | Conditional |\n",
    "| `and` | Conditional |\n",
    "| `or` | Conditional |\n",
    "| `not` | Conditional |\n",
    "| `continue` | Conditional |\n",
    "| `break` | Conditonal |\n",
    "| `is` | Conditional |\n",
    "| `try` | Conditional |\n",
    "| `except` | Conditional |\n",
    "| `import` | Reuse |\n",
    "| `class` | Reuse |\n",
    "| `def` | Reuse |\n",
    "| `as` | Reuse |\n",
    "| `return` | Output |\n",
    "| `print` | Output |\n",
    "| `input` | Input |\n",
    "| `in` | Input |\n",
    "| `is` | Input |\n",
    "| `with` | Input |\n",
    "\n",
    "There are plenty of other ways to accomplish these without the fancy keywords, and often the use of some of these keywords are very niche, but still good to know whenever you run into them. \n",
    "\n",
    "### Breaking down Scripts into building blocks\n",
    "\n",
    "Take the script below, and see if you can see what each line would quantify as (For note: Some lines will have more than one answer, finding the fundamental building block of the line is what is important)\n",
    "\n",
    "## Exercise 2-1"
   ]
  },
  {
   "cell_type": "code",
   "execution_count": 5,
   "id": "5e61966e",
   "metadata": {},
   "outputs": [
    {
     "name": "stdout",
     "output_type": "stream",
     "text": [
      "0 squared is 0\n",
      "1 squared is 1\n",
      "2 squared is 4\n",
      "3 squared is 9\n",
      "4 squared is 16\n"
     ]
    }
   ],
   "source": [
    "def myFunction(n):\n",
    "    for i in range(n):\n",
    "        square = i * i\n",
    "        print(i, \"squared is\",square)\n",
    "\n",
    "raw = input(\"Please input a number: \")\n",
    "try:\n",
    "    count = int(raw)\n",
    "    myFunction(count)\n",
    "except:\n",
    "    print(\"ERROR: Not a number!\")"
   ]
  },
  {
   "cell_type": "markdown",
   "id": "99e7f6fe",
   "metadata": {},
   "source": [
    "Not only can we break down existing code into building blocks, but we can even break down a given problem into these building blocks, and use this breakdown to \"write\" the lines without actually having to code them!\n",
    "\n",
    "For example, my boss comes to me with the following problem: \n",
    "\n",
    "```\n",
    "The customer is complaining that we are using the wrong measurement in our system. Whenever they input a number, we use that number as meters, but they would like to see the value in feet. Take their number and convert it from meters to feet before we display it. \n",
    "```\n",
    "\n",
    "\"Whenever they *input* a number\" tells me that they are _expecting_ an input (in this case we already provided it). \n",
    "\n",
    "\"Take their number and convert it from meters to feet\" means that we will take a variable for reuse, and do some work on it. We can either make our own variable using this given number (in many cases you won't have a choice) or just update the value given. \n",
    "\n",
    "\"Before we display it\" means that this value will be outputted, either printed or returned. To write this I will first break down my single task into the building blocks, then write each line"
   ]
  },
  {
   "cell_type": "code",
   "execution_count": 6,
   "id": "d095ee04",
   "metadata": {},
   "outputs": [
    {
     "name": "stdout",
     "output_type": "stream",
     "text": [
      "65.6168 ft.\n"
     ]
    }
   ],
   "source": [
    "# Reuse: Conversion Function Task with an Input of a number\n",
    "# Reuse: Save a variable that converts the inputted number into Feet\n",
    "# Output: Return the converted value\n",
    "\n",
    "def metersToFeet(m):\n",
    "    ft = m * 3.28084\n",
    "    return ft\n",
    "\n",
    "### EXISTING CODE\n",
    "# ...\n",
    "meters = 20 # This value of 20 came from elsewhere, but we don't need the input here for now\n",
    "## INSERT MY CONVERSION\n",
    "asFeet = metersToFeet(meters)\n",
    "print(asFeet,\"ft.\")\n"
   ]
  },
  {
   "cell_type": "markdown",
   "id": "3e15d1a1",
   "metadata": {},
   "source": [
    "Give it a try! You do not have to write code, but just break down a prompt into the building blocks\n",
    "\n",
    "## Exercise 2-2\n",
    "\n",
    "```\n",
    "Create an application that will take in a name, an age, and the company they represent. With these values, make the company name all caps, then display the information in this format: \n",
    "\"Paul from COMPANY is 18 years old!\"\n",
    "```"
   ]
  },
  {
   "cell_type": "markdown",
   "id": "486e88b1",
   "metadata": {},
   "source": [
    "\n",
    "---\n",
    "\n",
    "### Operators\n",
    "\n",
    "One of the things that has been neglected so far is the operators of Python. This is how we will \"manipulate\" the data for our purposes. \n",
    "\n",
    "Some of the keywords that we showed off earlier actually would fall into the category of \"operator\", but are only used for their given purposes. \n",
    "\n",
    "There are 7 main types of Operators:\n",
    "\n",
    "- Comparison: ==, !=, <, >, <=, >=\n",
    "- Logical: and, or, not\n",
    "- Arithmetic: +, -, *, /, // (floor division, round down to nearest integer), %(Modulus, which is the remainder), **(Exponent)\n",
    "- Assignment: =, +=, -=, *=, /=, //=, %=, **=\n",
    "- Bitwise: &, |, ^, ~, <<, >>\n",
    "- Identity: is, is not\n",
    "- Membership: in, not in\n",
    "\n",
    "Most of these are often used in conjunction with one another, such as assignment just building off of the arithmetic, but are key to how we would actually change values to what we want. \n",
    "\n",
    "Some operators are tied to very specific use cases, such as Bitwise. For all of our work, we will not be looking into Bitwise operations, but are very handy to know when dealing with mathematical problems or an integer that uses parts of it's number as a descriptor (for example, all IDs from object A being subsetted to starting with 0001 in binary, while object B being 0010)\n",
    "\n",
    "## Conclusion\n",
    "\n",
    "Now that we have set up our foundation, time to actually code!"
   ]
  },
  {
   "cell_type": "markdown",
   "id": "34749e17",
   "metadata": {},
   "source": [
    "Next: [3-Getting and Reading Data](../html/3-GettingAndReadingData.html)"
   ]
  }
 ],
 "metadata": {
  "kernelspec": {
   "display_name": ".venv",
   "language": "python",
   "name": "python3"
  },
  "language_info": {
   "codemirror_mode": {
    "name": "ipython",
    "version": 3
   },
   "file_extension": ".py",
   "mimetype": "text/x-python",
   "name": "python",
   "nbconvert_exporter": "python",
   "pygments_lexer": "ipython3",
   "version": "3.12.3"
  }
 },
 "nbformat": 4,
 "nbformat_minor": 5
}
