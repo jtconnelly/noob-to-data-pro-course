{
 "cells": [
  {
   "cell_type": "markdown",
   "id": "03cca827",
   "metadata": {},
   "source": [
    "# Python Noob To Pro Course\n",
    "\n",
    "# Table of Contents\n",
    "\n",
    "- [1-Getting Started](../html/1-GettingStarted.html)\n",
    "- [2-Python Basics](../html/2-PythonBasics.html)\n",
    "- [3-Getting and Reading Data](../html/3-GettingAndReadingData.html)\n",
    "- [4-Visualizing Data](../html/4-VisualizingData.html)\n",
    "- [5-Intro To Pandas](../html/5-IntroToPandas.html)\n",
    "- [6-Intro To Web Scraping](../html/6-IntroToWebScraping.html)\n",
    "- [7-Working With Databases](../html/7-WorkingWithDatabases.html)"
   ]
  }
 ],
 "metadata": {
  "kernelspec": {
   "display_name": ".venv",
   "language": "python",
   "name": "python3"
  },
  "language_info": {
   "codemirror_mode": {
    "name": "ipython",
    "version": 3
   },
   "file_extension": ".py",
   "mimetype": "text/x-python",
   "name": "python",
   "nbconvert_exporter": "python",
   "pygments_lexer": "ipython3",
   "version": "3.12.3"
  }
 },
 "nbformat": 4,
 "nbformat_minor": 5
}
