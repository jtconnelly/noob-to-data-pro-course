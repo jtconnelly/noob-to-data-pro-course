{
 "cells": [
  {
   "cell_type": "markdown",
   "id": "03cca827",
   "metadata": {},
   "source": [
    "# Python Noob To Pro Course\n",
    "\n",
    "# Table of Contents\n",
    "\n",
    "- [1-Getting Started](../html/1-GettingStarted.html)\n",
    "- [2-PythonBasics](../html/2-PythonBasics.html)"
   ]
  }
 ],
 "metadata": {
  "kernelspec": {
   "display_name": ".venv",
   "language": "python",
   "name": "python3"
  },
  "language_info": {
   "codemirror_mode": {
    "name": "ipython",
    "version": 3
   },
   "file_extension": ".py",
   "mimetype": "text/x-python",
   "name": "python",
   "nbconvert_exporter": "python",
   "pygments_lexer": "ipython3",
   "version": "3.12.3"
  }
 },
 "nbformat": 4,
 "nbformat_minor": 5
}
