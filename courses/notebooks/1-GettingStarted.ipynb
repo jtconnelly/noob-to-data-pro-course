{
 "cells": [
  {
   "cell_type": "markdown",
   "id": "994011da",
   "metadata": {},
   "source": [
    "# Getting Started\n",
    "\n",
    "James Connelly\n",
    "\n",
    "[Return to Table of Contents](../html/TableOfContents.html)\n",
    "\n",
    "Welcome to my course! Before we get started, we are going to have to get our environment set up and download some things that we will be using for the beginning. This list will not be exhaustive, but will get us through the first sets of lessons. \n",
    "\n",
    "## What We Need\n",
    "1. `Visual Studio Code` is my recommended IDE for the easy integration of languages, the extension marketplace, and really good support for Jupyter Notebooks\n",
    "2. A `Python` environment. I am currently using 3.12.3 since this was default on my system, but this is not a hard requirement since everything we will be going over should be consistent across most of the more modern versions of Python\n",
    "\n",
    "Here are some links for downloading these items: \n",
    "- [Visual Studio Code](https://code.visualstudio.com/download)\n",
    "- [Python](https://www.python.org/downloads/)\n",
    "\n",
    "### For Clarification\n",
    "There are some other optional items that can be downloaded, but will overly complicate the setup for what we will want to be doing. For example: \n",
    "- You could use Conda to create your virtual environment in Python, it will actually set up the environment for you and encapsulate it separate from the rest of the system. \n",
    "- Other IDEs include PyCharm, Spyder, or really any text editor. There is also one included with Python downloads called IDLE, but I don't recommend it\n",
    "- I highly recommend downloading the Git Bash Shell, It makes doing any work from this course easy, and there may be cases where I will use a terminal to set things up for a later project, and for consistency following from a similar terminal interface will save time and effort\n",
    "\n",
    "I am also using a Debian based Linux Distro for all of my work, so to put everything up front: Some things that I would do to run this in code is a lot easier than if done from Windows without installing any other shells such as Git Bash. \n",
    "\n",
    "### Setting Up Visual Studio Code\n",
    "Once Visual Studio Code is downloaded and we open it, we still have some extensions to add to be ready to work. There are 2 that are packs that will give us everything we need to get started. \n",
    "The \"Extensions\" symbol is on the left bar, it is the 3 squares and 1 square turned to a diamond. ![Extensions Button](../data/extension-button.png \"Extensions Button\")\n",
    "\n",
    "Using the \"Search Extensions\" bar, you will search for \"Python\" and \"Jupyter\", both of these packs are made by Microsoft, so they are safe to use.\n",
    "\n",
    "![Python Extension](../data/python-extension.png)\n",
    "\n",
    "![Jupytyer Extension](../data/jupyter-extension.png)\n",
    "\n",
    "Next, we will be covering the basics of using all of these pieces, and learning some of the basics of Python."
   ]
  },
  {
   "cell_type": "markdown",
   "id": "7e23500c",
   "metadata": {},
   "source": [
    "# Setting up Python inside Visual Studio Code\n",
    "\n",
    "Before we can get started with projects, we have to make sure that we can get a project to work. \n",
    "\n",
    "First, inside this project folder, create a new folder, let's just call it `out` for the sake of consistency. \n",
    "\n",
    "You can do this inside Visual Studio Code by clicking on the Explorer tab on the left, and in the open space, right clicking. \n",
    "\n",
    "## Setting up the Environment\n",
    "\n",
    "With Python extension installed, we can create an environment specifically for this file. To do this, Press `Ctrl+Shift+P` and type \"Create Environment\", press enter\n",
    "\n",
    "![Create Environment Screenshot](../data/create_environment.png)\n",
    "\n",
    "Select \"Venv\", select your interpreter that you downloaded earlier, and you're good to go!\n",
    "\n",
    "This will create a `.env` folder, this will maintain all of our information that we will be using without affecting our global environment. \n",
    "\n",
    "Although not required, this is the standard, especially in environments where you might not have direct access to the global environment. \n",
    "\n",
    "Now to create a file, you can either let the Python extension do it for you or directly adding a file to your `out` folder. \n",
    "\n",
    "Let's just name this one `test.py`\n",
    "\n",
    "To make sure everything is working, type this phrase in the file: "
   ]
  },
  {
   "cell_type": "code",
   "execution_count": 4,
   "id": "7fe5fe45",
   "metadata": {},
   "outputs": [
    {
     "name": "stdout",
     "output_type": "stream",
     "text": [
      "Hello, World!\n"
     ]
    }
   ],
   "source": [
    "print(\"Hello, World!\")"
   ]
  },
  {
   "cell_type": "markdown",
   "id": "98ce6f80",
   "metadata": {},
   "source": [
    "Now, hitting the \"Play\" button in the top right, you will get the output inside the quotes, and you're all set up!"
   ]
  },
  {
   "cell_type": "markdown",
   "id": "0af776c4",
   "metadata": {},
   "source": [
    "Next: [2-Python Basics](../html/2-PythonBasics.html)"
   ]
  }
 ],
 "metadata": {
  "kernelspec": {
   "display_name": ".venv",
   "language": "python",
   "name": "python3"
  },
  "language_info": {
   "codemirror_mode": {
    "name": "ipython",
    "version": 3
   },
   "file_extension": ".py",
   "mimetype": "text/x-python",
   "name": "python",
   "nbconvert_exporter": "python",
   "pygments_lexer": "ipython3",
   "version": "3.12.3"
  }
 },
 "nbformat": 4,
 "nbformat_minor": 5
}
